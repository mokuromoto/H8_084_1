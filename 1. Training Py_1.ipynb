{
 "cells": [
  {
   "cell_type": "code",
   "execution_count": 1,
   "id": "330354d6",
   "metadata": {},
   "outputs": [
    {
     "ename": "NameError",
     "evalue": "name 'integers' is not defined",
     "output_type": "error",
     "traceback": [
      "\u001b[1;31m---------------------------------------------------------------------------\u001b[0m",
      "\u001b[1;31mNameError\u001b[0m                                 Traceback (most recent call last)",
      "\u001b[1;32mC:\\Users\\MOHAMA~1.KUR\\AppData\\Local\\Temp/ipykernel_16928/3783769585.py\u001b[0m in \u001b[0;36m<module>\u001b[1;34m\u001b[0m\n\u001b[1;32m----> 1\u001b[1;33m \u001b[0mintegers\u001b[0m\u001b[1;33m\u001b[0m\u001b[1;33m\u001b[0m\u001b[0m\n\u001b[0m",
      "\u001b[1;31mNameError\u001b[0m: name 'integers' is not defined"
     ]
    }
   ],
   "source": [
    "integers"
   ]
  },
  {
   "cell_type": "code",
   "execution_count": 2,
   "id": "4d054d0c",
   "metadata": {},
   "outputs": [
    {
     "name": "stdout",
     "output_type": "stream",
     "text": [
      "123123123124\n"
     ]
    }
   ],
   "source": [
    "print(123123123123+1)"
   ]
  },
  {
   "cell_type": "code",
   "execution_count": 3,
   "id": "3afda432",
   "metadata": {},
   "outputs": [
    {
     "name": "stdout",
     "output_type": "stream",
     "text": [
      "10\n"
     ]
    }
   ],
   "source": [
    "print(10)"
   ]
  },
  {
   "cell_type": "code",
   "execution_count": 4,
   "id": "954477a6",
   "metadata": {},
   "outputs": [
    {
     "name": "stdout",
     "output_type": "stream",
     "text": [
      "<class 'int'>\n"
     ]
    }
   ],
   "source": [
    "print(type(10))"
   ]
  },
  {
   "cell_type": "code",
   "execution_count": 5,
   "id": "179a3180",
   "metadata": {},
   "outputs": [
    {
     "name": "stdout",
     "output_type": "stream",
     "text": [
      "4.2\n"
     ]
    }
   ],
   "source": [
    "print(4.2)"
   ]
  },
  {
   "cell_type": "code",
   "execution_count": 6,
   "id": "f72f8f2e",
   "metadata": {},
   "outputs": [
    {
     "name": "stdout",
     "output_type": "stream",
     "text": [
      "0.00042\n"
     ]
    }
   ],
   "source": [
    "print(4.2e-4)"
   ]
  },
  {
   "cell_type": "code",
   "execution_count": 7,
   "id": "afe28580",
   "metadata": {},
   "outputs": [
    {
     "name": "stdout",
     "output_type": "stream",
     "text": [
      "4000000.0\n"
     ]
    }
   ],
   "source": [
    "print(.4e7)"
   ]
  },
  {
   "cell_type": "code",
   "execution_count": 8,
   "id": "97be32c3",
   "metadata": {},
   "outputs": [
    {
     "name": "stdout",
     "output_type": "stream",
     "text": [
      "\n"
     ]
    }
   ],
   "source": [
    "print('')"
   ]
  },
  {
   "cell_type": "code",
   "execution_count": 9,
   "id": "9e14b8c9",
   "metadata": {},
   "outputs": [
    {
     "name": "stdout",
     "output_type": "stream",
     "text": [
      "hello world\n"
     ]
    }
   ],
   "source": [
    "print(\"hello world\")"
   ]
  },
  {
   "cell_type": "code",
   "execution_count": 10,
   "id": "03f0ac77",
   "metadata": {},
   "outputs": [
    {
     "name": "stdout",
     "output_type": "stream",
     "text": [
      "300\n"
     ]
    }
   ],
   "source": [
    "n=300\n",
    "print(n)"
   ]
  },
  {
   "cell_type": "code",
   "execution_count": 11,
   "id": "9695eff9",
   "metadata": {},
   "outputs": [
    {
     "ename": "NameError",
     "evalue": "name 'hello' is not defined",
     "output_type": "error",
     "traceback": [
      "\u001b[1;31m---------------------------------------------------------------------------\u001b[0m",
      "\u001b[1;31mNameError\u001b[0m                                 Traceback (most recent call last)",
      "\u001b[1;32mC:\\Users\\MOHAMA~1.KUR\\AppData\\Local\\Temp/ipykernel_16928/1011008894.py\u001b[0m in \u001b[0;36m<module>\u001b[1;34m\u001b[0m\n\u001b[1;32m----> 1\u001b[1;33m \u001b[0ma\u001b[0m\u001b[1;33m=\u001b[0m\u001b[0mhello\u001b[0m\u001b[1;33m\u001b[0m\u001b[1;33m\u001b[0m\u001b[0m\n\u001b[0m\u001b[0;32m      2\u001b[0m \u001b[0mb\u001b[0m\u001b[1;33m=\u001b[0m\u001b[0mworld\u001b[0m\u001b[1;33m\u001b[0m\u001b[1;33m\u001b[0m\u001b[0m\n\u001b[0;32m      3\u001b[0m \u001b[0mc\u001b[0m\u001b[1;33m=\u001b[0m\u001b[1;36m2022\u001b[0m\u001b[1;33m\u001b[0m\u001b[1;33m\u001b[0m\u001b[0m\n\u001b[0;32m      4\u001b[0m \u001b[0mprint\u001b[0m \u001b[1;33m(\u001b[0m\u001b[0ma\u001b[0m\u001b[1;33m,\u001b[0m\u001b[0mb\u001b[0m\u001b[1;33m,\u001b[0m\u001b[0mc\u001b[0m\u001b[1;33m)\u001b[0m\u001b[1;33m\u001b[0m\u001b[1;33m\u001b[0m\u001b[0m\n",
      "\u001b[1;31mNameError\u001b[0m: name 'hello' is not defined"
     ]
    }
   ],
   "source": [
    "a=hello\n",
    "b=world\n",
    "c=2022\n",
    "print (a,b,c)"
   ]
  },
  {
   "cell_type": "code",
   "execution_count": 12,
   "id": "3240a013",
   "metadata": {},
   "outputs": [
    {
     "ename": "NameError",
     "evalue": "name 'hello' is not defined",
     "output_type": "error",
     "traceback": [
      "\u001b[1;31m---------------------------------------------------------------------------\u001b[0m",
      "\u001b[1;31mNameError\u001b[0m                                 Traceback (most recent call last)",
      "\u001b[1;32mC:\\Users\\MOHAMA~1.KUR\\AppData\\Local\\Temp/ipykernel_16928/3987207800.py\u001b[0m in \u001b[0;36m<module>\u001b[1;34m\u001b[0m\n\u001b[1;32m----> 1\u001b[1;33m \u001b[0ma\u001b[0m\u001b[1;33m=\u001b[0m\u001b[0mhello\u001b[0m\u001b[1;33m\u001b[0m\u001b[1;33m\u001b[0m\u001b[0m\n\u001b[0m\u001b[0;32m      2\u001b[0m \u001b[0mb\u001b[0m\u001b[1;33m=\u001b[0m\u001b[0mworld\u001b[0m\u001b[1;33m\u001b[0m\u001b[1;33m\u001b[0m\u001b[0m\n\u001b[0;32m      3\u001b[0m \u001b[0mc\u001b[0m\u001b[1;33m=\u001b[0m\u001b[1;34m\"2022\"\u001b[0m\u001b[1;33m\u001b[0m\u001b[1;33m\u001b[0m\u001b[0m\n\u001b[0;32m      4\u001b[0m \u001b[0mprint\u001b[0m \u001b[1;33m(\u001b[0m\u001b[0ma\u001b[0m\u001b[1;33m,\u001b[0m\u001b[0mb\u001b[0m\u001b[1;33m,\u001b[0m\u001b[0mc\u001b[0m\u001b[1;33m)\u001b[0m\u001b[1;33m\u001b[0m\u001b[1;33m\u001b[0m\u001b[0m\n",
      "\u001b[1;31mNameError\u001b[0m: name 'hello' is not defined"
     ]
    }
   ],
   "source": [
    "a=hello\n",
    "b=world\n",
    "c=\"2022\"\n",
    "print (a,b,c)"
   ]
  },
  {
   "cell_type": "code",
   "execution_count": 13,
   "id": "573344f1",
   "metadata": {},
   "outputs": [
    {
     "name": "stdout",
     "output_type": "stream",
     "text": [
      "hello world 2022\n"
     ]
    }
   ],
   "source": [
    "a=\"hello\"\n",
    "b=\"world\"\n",
    "c=\"2022\"\n",
    "print (a,b,c)"
   ]
  },
  {
   "cell_type": "code",
   "execution_count": 18,
   "id": "cfcaab0b",
   "metadata": {},
   "outputs": [
    {
     "name": "stdout",
     "output_type": "stream",
     "text": [
      "6.5\n"
     ]
    }
   ],
   "source": [
    "c = 2.5\n",
    "d=4\n",
    "plus=c+d\n",
    "print(plus)"
   ]
  },
  {
   "cell_type": "code",
   "execution_count": 19,
   "id": "cdbfe507",
   "metadata": {},
   "outputs": [
    {
     "name": "stdout",
     "output_type": "stream",
     "text": [
      "7\n"
     ]
    }
   ],
   "source": [
    "a=4\n",
    "b=3\n",
    "\n",
    "print(a+b)"
   ]
  },
  {
   "cell_type": "code",
   "execution_count": 20,
   "id": "be280c1d",
   "metadata": {},
   "outputs": [
    {
     "name": "stdout",
     "output_type": "stream",
     "text": [
      "False\n",
      "True\n",
      "False\n"
     ]
    }
   ],
   "source": [
    "e=40\n",
    "f=50\n",
    "print(e==f)\n",
    "print(e<=f)\n",
    "print(e>=f)"
   ]
  },
  {
   "cell_type": "code",
   "execution_count": 21,
   "id": "bcf69258",
   "metadata": {},
   "outputs": [
    {
     "name": "stdout",
     "output_type": "stream",
     "text": [
      "False\n",
      "True\n",
      "False\n",
      "80\n"
     ]
    }
   ],
   "source": [
    "e=40\n",
    "f=50\n",
    "print(e==f)\n",
    "print(e<=f)\n",
    "print(e>=f)\n",
    "e=40\n",
    "f=40\n",
    "print(e+f)"
   ]
  },
  {
   "cell_type": "code",
   "execution_count": 22,
   "id": "253b19ed",
   "metadata": {},
   "outputs": [
    {
     "name": "stdout",
     "output_type": "stream",
     "text": [
      "4 False\n",
      "True\n",
      "False\n",
      "80\n"
     ]
    }
   ],
   "source": [
    "e=40\n",
    "f=50\n",
    "print(a,e==f)\n",
    "print(e<=f)\n",
    "print(e>=f)\n",
    "e=40\n",
    "f=40\n",
    "print(e+f)"
   ]
  },
  {
   "cell_type": "code",
   "execution_count": 23,
   "id": "720f0228",
   "metadata": {},
   "outputs": [
    {
     "name": "stdout",
     "output_type": "stream",
     "text": [
      "foo 3005 baz\n"
     ]
    }
   ],
   "source": [
    "s = 'foo'\n",
    "t = 3005\n",
    "u = 'baz'\n",
    "\n",
    "print(s , t , u)"
   ]
  },
  {
   "cell_type": "code",
   "execution_count": 24,
   "id": "29aa3c8f",
   "metadata": {},
   "outputs": [],
   "source": [
    "a = ['foo', 'bar', 'baz', 'qux', 'quux', 'corge']"
   ]
  },
  {
   "cell_type": "code",
   "execution_count": 26,
   "id": "831b2ed3",
   "metadata": {},
   "outputs": [
    {
     "name": "stdout",
     "output_type": "stream",
     "text": [
      "foo\n"
     ]
    }
   ],
   "source": [
    "print (a[0])"
   ]
  },
  {
   "cell_type": "code",
   "execution_count": 27,
   "id": "d863f50f",
   "metadata": {},
   "outputs": [
    {
     "name": "stdout",
     "output_type": "stream",
     "text": [
      "corge\n"
     ]
    }
   ],
   "source": [
    "print (a[5])"
   ]
  },
  {
   "cell_type": "code",
   "execution_count": 28,
   "id": "54cdf283",
   "metadata": {},
   "outputs": [],
   "source": [
    "a = ['foo', 'bar', 'baz', 'qux', 'quux', 'corge']"
   ]
  },
  {
   "cell_type": "code",
   "execution_count": 29,
   "id": "219ce4e7",
   "metadata": {},
   "outputs": [
    {
     "data": {
      "text/plain": [
       "['baz', 'qux', 'quux']"
      ]
     },
     "execution_count": 29,
     "metadata": {},
     "output_type": "execute_result"
    }
   ],
   "source": [
    "a[2:5]"
   ]
  },
  {
   "cell_type": "code",
   "execution_count": 30,
   "id": "b8973df0",
   "metadata": {},
   "outputs": [
    {
     "data": {
      "text/plain": [
       "['baz', 'qux']"
      ]
     },
     "execution_count": 30,
     "metadata": {},
     "output_type": "execute_result"
    }
   ],
   "source": [
    "a[2:4]"
   ]
  },
  {
   "cell_type": "code",
   "execution_count": 31,
   "id": "6249943c",
   "metadata": {},
   "outputs": [
    {
     "name": "stdout",
     "output_type": "stream",
     "text": [
      "['foo', 'bar', 'baz', 'qux', 'quux', 'corge']\n",
      "['foo', 'bar', 10, 'qux', 'quux', 20]\n"
     ]
    }
   ],
   "source": [
    "a = ['foo', 'bar', 'baz', 'qux', 'quux', 'corge']\n",
    "\n",
    "print(a)\n",
    "\n",
    "a[2] = 10\n",
    "a[-1] = 20\n",
    "\n",
    "print(a)"
   ]
  },
  {
   "cell_type": "code",
   "execution_count": 32,
   "id": "dd627c93",
   "metadata": {},
   "outputs": [],
   "source": [
    "del a[3]"
   ]
  },
  {
   "cell_type": "code",
   "execution_count": 33,
   "id": "d8cd6387",
   "metadata": {},
   "outputs": [
    {
     "name": "stdout",
     "output_type": "stream",
     "text": [
      "('foo', 'bar', 'baz', 'qux', 'quux', 'corge')\n"
     ]
    }
   ],
   "source": [
    "t = ('foo', 'bar', 'baz', 'qux', 'quux', 'corge')\n",
    "print(t)"
   ]
  },
  {
   "cell_type": "code",
   "execution_count": 34,
   "id": "311aed08",
   "metadata": {},
   "outputs": [
    {
     "name": "stdout",
     "output_type": "stream",
     "text": [
      "foo\n"
     ]
    }
   ],
   "source": [
    "print(t[0])"
   ]
  },
  {
   "cell_type": "code",
   "execution_count": 35,
   "id": "f5437eaf",
   "metadata": {},
   "outputs": [
    {
     "name": "stdout",
     "output_type": "stream",
     "text": [
      "corge\n"
     ]
    }
   ],
   "source": [
    "print(t[-1])"
   ]
  },
  {
   "cell_type": "code",
   "execution_count": 36,
   "id": "7089777c",
   "metadata": {},
   "outputs": [],
   "source": [
    "MLB_team = {\n",
    "    'Colorado': 'Rockies',\n",
    "    'Boston': 'Red Sox',\n",
    "    'Minnesota': 'Twins',\n",
    "    'Milwaukee': 'Brewers',\n",
    "    'Seattle': 'Mariners'\n",
    "}"
   ]
  },
  {
   "cell_type": "code",
   "execution_count": 37,
   "id": "cde576f0",
   "metadata": {},
   "outputs": [
    {
     "name": "stdout",
     "output_type": "stream",
     "text": [
      "Twins\n",
      "Rockies\n"
     ]
    }
   ],
   "source": [
    "print(MLB_team['Minnesota'])\n",
    "print(MLB_team['Colorado'])"
   ]
  },
  {
   "cell_type": "code",
   "execution_count": 38,
   "id": "9515214e",
   "metadata": {},
   "outputs": [
    {
     "data": {
      "text/plain": [
       "{'Colorado': 'Rockies',\n",
       " 'Boston': 'Red Sox',\n",
       " 'Minnesota': 'Twins',\n",
       " 'Milwaukee': 'Brewers',\n",
       " 'Seattle': 'Mariners',\n",
       " 'Kansas City': 'Royals'}"
      ]
     },
     "execution_count": 38,
     "metadata": {},
     "output_type": "execute_result"
    }
   ],
   "source": [
    "MLB_team['Kansas City'] = 'Royals'\n",
    "MLB_team"
   ]
  },
  {
   "cell_type": "code",
   "execution_count": 39,
   "id": "999b6251",
   "metadata": {},
   "outputs": [
    {
     "data": {
      "text/plain": [
       "True"
      ]
     },
     "execution_count": 39,
     "metadata": {},
     "output_type": "execute_result"
    }
   ],
   "source": [
    "person1_age = 42\n",
    "person2_age = 16\n",
    "person3_age = 71\n",
    "\n",
    "someone_is_of_working_age = (person1_age >= 18 and person1_age <= 65) or (person2_age >= 18 and person2_age <= 65) or (person3_age >= 18 and person3_age <= 65)\n",
    "someone_is_of_working_age"
   ]
  },
  {
   "cell_type": "code",
   "execution_count": 40,
   "id": "7b6da652",
   "metadata": {},
   "outputs": [
    {
     "data": {
      "text/plain": [
       "True"
      ]
     },
     "execution_count": 40,
     "metadata": {},
     "output_type": "execute_result"
    }
   ],
   "source": [
    "omeone_is_of_working_age = (\n",
    "    (person1_age >= 18 and person1_age <= 65)\n",
    "    or (person2_age >= 18 and person2_age <= 65)\n",
    "    or (person3_age >= 18 and person3_age <= 65)\n",
    ")\n",
    "\n",
    "someone_is_of_working_age"
   ]
  },
  {
   "cell_type": "code",
   "execution_count": 41,
   "id": "132bb9f5",
   "metadata": {},
   "outputs": [
    {
     "data": {
      "text/plain": [
       "True"
      ]
     },
     "execution_count": 41,
     "metadata": {},
     "output_type": "execute_result"
    }
   ],
   "source": [
    "omeone_is_of_working_age = (\n",
    "    (person1_age >= 14 and person1_age <= 65)\n",
    "    or (person2_age >= 18 and person2_age <= 65)\n",
    "    or (person3_age >= 18 and person3_age <= 65)\n",
    ")\n",
    "\n",
    "someone_is_of_working_age"
   ]
  },
  {
   "cell_type": "code",
   "execution_count": 42,
   "id": "d51f68b1",
   "metadata": {},
   "outputs": [
    {
     "data": {
      "text/plain": [
       "True"
      ]
     },
     "execution_count": 42,
     "metadata": {},
     "output_type": "execute_result"
    }
   ],
   "source": [
    "omeone_is_of_working_age = (\n",
    "    (person1_age >= 43 and person1_age <= 65)\n",
    "    or (person2_age >= 18 and person2_age <= 65)\n",
    "    or (person3_age >= 18 and person3_age <= 65)\n",
    ")\n",
    "\n",
    "someone_is_of_working_age"
   ]
  },
  {
   "cell_type": "code",
   "execution_count": 43,
   "id": "948c2780",
   "metadata": {},
   "outputs": [
    {
     "data": {
      "text/plain": [
       "False"
      ]
     },
     "execution_count": 43,
     "metadata": {},
     "output_type": "execute_result"
    }
   ],
   "source": [
    "someone_is_of_working_age = (\n",
    "    (person1_age >= 50 and person1_age <= 65)\n",
    "    or (person2_age >= 18 and person2_age <= 65)\n",
    "    or (person3_age >= 18 and person3_age <= 65)\n",
    ")\n",
    "\n",
    "someone_is_of_working_age"
   ]
  },
  {
   "cell_type": "code",
   "execution_count": 44,
   "id": "9757f395",
   "metadata": {},
   "outputs": [],
   "source": [
    "person = {}\n",
    "type(person)\n",
    "\n",
    "person['fname'] = 'Hack'\n",
    "person['lname'] = 'PTP'\n",
    "person['age'] = 51\n",
    "person['spouse'] = 'Edna'\n",
    "person['children'] = ['Ralph', 'Betty', 'Joey']\n",
    "person['pets'] = {'dog': 'Fido', 'cat': 'Sox'}"
   ]
  },
  {
   "cell_type": "code",
   "execution_count": 45,
   "id": "49342440",
   "metadata": {},
   "outputs": [
    {
     "data": {
      "text/plain": [
       "{'fname': 'Hack',\n",
       " 'lname': 'PTP',\n",
       " 'age': 51,\n",
       " 'spouse': 'Edna',\n",
       " 'children': ['Ralph', 'Betty', 'Joey'],\n",
       " 'pets': {'dog': 'Fido', 'cat': 'Sox'}}"
      ]
     },
     "execution_count": 45,
     "metadata": {},
     "output_type": "execute_result"
    }
   ],
   "source": [
    "person"
   ]
  },
  {
   "cell_type": "code",
   "execution_count": null,
   "id": "9d33a542",
   "metadata": {},
   "outputs": [],
   "source": []
  }
 ],
 "metadata": {
  "kernelspec": {
   "display_name": "Python 3 (ipykernel)",
   "language": "python",
   "name": "python3"
  },
  "language_info": {
   "codemirror_mode": {
    "name": "ipython",
    "version": 3
   },
   "file_extension": ".py",
   "mimetype": "text/x-python",
   "name": "python",
   "nbconvert_exporter": "python",
   "pygments_lexer": "ipython3",
   "version": "3.9.7"
  }
 },
 "nbformat": 4,
 "nbformat_minor": 5
}
