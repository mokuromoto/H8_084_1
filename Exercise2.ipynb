{
 "cells": [
  {
   "cell_type": "code",
   "execution_count": 37,
   "id": "73acd4de",
   "metadata": {},
   "outputs": [
    {
     "name": "stdout",
     "output_type": "stream",
     "text": [
      "Mulai: 1\n",
      "Selesai: 28\n",
      "Array 1D:\n",
      "[ 1  2  3  4  5  6  7  8  9 10 11 12 13 14 15 16 17 18 19 20 21 22 23 24\n",
      " 25 26 27]\n",
      "Array 2D:\n",
      "[[ 1  2  3  4  5  6  7  8  9]\n",
      " [10 11 12 13 14 15 16 17 18]\n",
      " [19 20 21 22 23 24 25 26 27]]\n",
      "Array 3D:\n",
      "[[ 1  2  3]\n",
      " [ 4  5  6]\n",
      " [ 7  8  9]\n",
      " [10 11 12]\n",
      " [13 14 15]\n",
      " [16 17 18]\n",
      " [19 20 21]\n",
      " [22 23 24]\n",
      " [25 26 27]]\n"
     ]
    }
   ],
   "source": [
    "import numpy as np\n",
    "\n",
    "mulai = int(input(\"Mulai: \"))\n",
    "selesai = int(input(\"Selesai: \"))\n",
    "\n",
    "#Create array 1D\n",
    "arr = np.arange(mulai,selesai,1) # (start, stop, step)\n",
    "arr1 = np.array(arr)\n",
    "print('Array 1D:')\n",
    "print(arr1)\n",
    "\n",
    "# Create array 2D\n",
    "print('Array 2D:')\n",
    "arr2 = arr1.reshape(3,round(selesai/3))\n",
    "print(arr2)\n",
    "\n",
    "# Create array 3D\n",
    "print('Array 3D:')\n",
    "arr3 = arr1.reshape(9,round(selesai/9))\n",
    "print(arr3)\n"
   ]
  },
  {
   "cell_type": "code",
   "execution_count": 47,
   "id": "2119aad7",
   "metadata": {},
   "outputs": [
    {
     "name": "stdout",
     "output_type": "stream",
     "text": [
      "Banyak Data: 16\n",
      "Mulai: 1\n",
      "Selesai: 50\n",
      "Array 1D:\n",
      "[24 20 46 35 13 19 19 31 15  4 28 22 36 25 30  6]\n",
      "Array 2D:\n",
      "[[24 20 46 35]\n",
      " [13 19 19 31]\n",
      " [15  4 28 22]\n",
      " [36 25 30  6]]\n",
      "Tukar Posisi:\n",
      "[[35 46 20 24]\n",
      " [31 19 19 13]\n",
      " [22 28  4 15]\n",
      " [ 6 30 25 36]]\n"
     ]
    }
   ],
   "source": [
    "import numpy as np\n",
    "import random\n",
    "\n",
    "n = int(input(\"Banyak Data: \"))\n",
    "mulai = int(input(\"Mulai: \"))\n",
    "selesai = int(input(\"Selesai: \"))\n",
    "data = np.random.randint(mulai,selesai,n)\n",
    "\n",
    "#Create array 1D\n",
    "print('Array 1D:')\n",
    "print(data)\n",
    "\n",
    "# Create array 2D\n",
    "print('Array 2D:')\n",
    "arr2 = data.reshape(4,4)\n",
    "print(arr2)\n",
    "\n",
    "# Create array 3D\n",
    "print('Tukar Posisi:')\n",
    "tukar = arr2[:, ::-1]\n",
    "print(tukar)"
   ]
  },
  {
   "cell_type": "code",
   "execution_count": 49,
   "id": "54160bb0",
   "metadata": {},
   "outputs": [
    {
     "name": "stdout",
     "output_type": "stream",
     "text": [
      "[[4. 4. 4. 4. 4. 4. 4. 4. 4. 4.]\n",
      " [4. 0. 0. 0. 0. 0. 0. 0. 0. 4.]\n",
      " [4. 0. 0. 0. 0. 0. 0. 0. 0. 4.]\n",
      " [4. 0. 0. 0. 0. 0. 0. 0. 0. 4.]\n",
      " [4. 0. 0. 0. 0. 0. 0. 0. 0. 4.]\n",
      " [4. 0. 0. 0. 0. 0. 0. 0. 0. 4.]\n",
      " [4. 0. 0. 0. 0. 0. 0. 0. 0. 4.]\n",
      " [4. 0. 0. 0. 0. 0. 0. 0. 0. 4.]\n",
      " [4. 0. 0. 0. 0. 0. 0. 0. 0. 4.]\n",
      " [4. 4. 4. 4. 4. 4. 4. 4. 4. 4.]]\n"
     ]
    }
   ],
   "source": [
    "# Array 2D 10x10\n",
    "x = np.ones((10,10))*4\n",
    "x[1:-1,1:-1] = 0\n",
    "print (x)"
   ]
  },
  {
   "cell_type": "code",
   "execution_count": null,
   "id": "24c2c518",
   "metadata": {},
   "outputs": [],
   "source": []
  }
 ],
 "metadata": {
  "kernelspec": {
   "display_name": "Python 3 (ipykernel)",
   "language": "python",
   "name": "python3"
  },
  "language_info": {
   "codemirror_mode": {
    "name": "ipython",
    "version": 3
   },
   "file_extension": ".py",
   "mimetype": "text/x-python",
   "name": "python",
   "nbconvert_exporter": "python",
   "pygments_lexer": "ipython3",
   "version": "3.9.7"
  }
 },
 "nbformat": 4,
 "nbformat_minor": 5
}
