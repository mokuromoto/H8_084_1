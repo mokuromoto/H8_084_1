{
 "cells": [
  {
   "cell_type": "code",
   "execution_count": 47,
   "id": "f431cb9d",
   "metadata": {},
   "outputs": [
    {
     "name": "stdout",
     "output_type": "stream",
     "text": [
      "Masukkan angka: 31\n",
      "Mohon masukan input yang benar berupa bilangan bulat positif\n"
     ]
    }
   ],
   "source": [
    "angka = int(input(\"Masukkan angka: \"))\n",
    "if angka==0:\n",
    "    print(\"%d Adalah bukan bilangan GENAP ATAU GANJIL\" %angka)\n",
    "elif angka==1:\n",
    "    print(\"%d Adalah tergolong bilangan GANJIL\" %angka)\n",
    "elif angka%2==0:\n",
    "    print(\"%d Adalah tergolong bilangan GENAP\" %angka)\n",
    "elif angka%3==0:\n",
    "    print(\"%d Adalah tergolong bilangan GANJIL\" %angka)\n",
    "else:\n",
    "    print(\"Mohon masukan input yang benar berupa bilangan bulat positif\")"
   ]
  },
  {
   "cell_type": "code",
   "execution_count": 48,
   "id": "f324693a",
   "metadata": {},
   "outputs": [
    {
     "name": "stdout",
     "output_type": "stream",
     "text": [
      "Masukkan angka: 1\n",
      "1 Adalah tergolong bilangan GANJIL\n"
     ]
    }
   ],
   "source": [
    "angka = int(input(\"Masukkan angka: \"))\n",
    "if angka%2==0:\n",
    "    print('%d Adalah tergolong bilangan GENAP' %angka)\n",
    "else:\n",
    "    print('%d Adalah tergolong bilangan GANJIL' %angka)"
   ]
  },
  {
   "cell_type": "code",
   "execution_count": 28,
   "id": "1eb721ed",
   "metadata": {},
   "outputs": [
    {
     "name": "stdout",
     "output_type": "stream",
     "text": [
      "MENU MENGHITUNG RUMUS LUAS SEGITIGA DAN PERSEGI\n",
      "Masukkan Angka 1 Untuk Menghitung Luas Segitiga\n",
      "Masukkan Angka 2 Untuk Menghitung Luas Persegi\n",
      "Pilihan Menu Yang Diinginkan: 2\n",
      "Masukan Panjang Persegi : 1\n",
      "Masukan Lebar Persegi: 2\n",
      "Luas Persegi tersebut adalah : 2.0\n"
     ]
    }
   ],
   "source": [
    "print('MENU MENGHITUNG RUMUS LUAS SEGITIGA DAN PERSEGI')\n",
    "print('Masukkan Angka 1 Untuk Menghitung Luas Segitiga')\n",
    "print('Masukkan Angka 2 Untuk Menghitung Luas Persegi')\n",
    "Pilihan = int(input('Pilihan Menu Yang Diinginkan: '))\n",
    "\n",
    "if Pilihan==1:\n",
    "    panjang = float(input('Masukan Tinggi Segitiga : '))\n",
    "    lebar = float(input('Masukan Alas Segitiga: '))\n",
    "    luas = 0.5*panjang*lebar\n",
    "    print(\"Luas Segitiga tersebut adalah :\",luas)\n",
    "else:\n",
    "    panjang = float(input('Masukan Panjang Persegi : '))\n",
    "    lebar = float(input('Masukan Lebar Persegi: '))\n",
    "    luas = panjang*lebar\n",
    "    print(\"Luas Persegi tersebut adalah :\",luas)"
   ]
  },
  {
   "cell_type": "code",
   "execution_count": 45,
   "id": "fd8a8376",
   "metadata": {},
   "outputs": [
    {
     "name": "stdout",
     "output_type": "stream",
     "text": [
      "Masukkan Jumlah Hari: 100\n",
      "100 hari = 0 Tahun 3 bulan 1 minggu 3 hari\n"
     ]
    }
   ],
   "source": [
    "jumlah_hari = int(input(\"Masukkan Jumlah Hari: \"))\n",
    "tahun = round(jumlah_hari/365)\n",
    "bulan = round((jumlah_hari - (tahun*365))/30)\n",
    "minggu = round ((jumlah_hari - (tahun *365)-(30*bulan))/7)\n",
    "hari = round(jumlah_hari - (minggu*7)-(tahun *365)-(30*bulan))\n",
    "print(jumlah_hari,\"hari\",\"=\",tahun,\"Tahun\",bulan,\"bulan\",minggu,\"minggu\",hari,\"hari\")"
   ]
  },
  {
   "cell_type": "code",
   "execution_count": null,
   "id": "37a96aa9",
   "metadata": {},
   "outputs": [],
   "source": []
  }
 ],
 "metadata": {
  "kernelspec": {
   "display_name": "Python 3 (ipykernel)",
   "language": "python",
   "name": "python3"
  },
  "language_info": {
   "codemirror_mode": {
    "name": "ipython",
    "version": 3
   },
   "file_extension": ".py",
   "mimetype": "text/x-python",
   "name": "python",
   "nbconvert_exporter": "python",
   "pygments_lexer": "ipython3",
   "version": "3.9.7"
  }
 },
 "nbformat": 4,
 "nbformat_minor": 5
}
